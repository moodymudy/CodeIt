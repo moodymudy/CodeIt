{
  "nbformat": 4,
  "nbformat_minor": 0,
  "metadata": {
    "colab": {
      "provenance": []
    },
    "kernelspec": {
      "name": "python3",
      "display_name": "Python 3"
    },
    "language_info": {
      "name": "python"
    }
  },
  "cells": [
    {
      "cell_type": "code",
      "source": [
        "from transformers import pipeline\n",
        "\n",
        "# pipeline for text generation using the 'microsoft/phi-1_5' model\n",
        "pipe = pipeline(\"text-generation\", model=\"microsoft/phi-1_5\")\n",
        "\n",
        "# Define the input prompt (focused only on generating code without extra output)\n",
        "prompt = \"def factorial(n):\\n    # Computes the factorial of a number\\n    \"\n",
        "\n",
        "# Generate one output with adjusted parameters for just the code\n",
        "output = pipe(prompt,\n",
        "              max_length=65,\n",
        "              num_return_sequences=1,\n",
        "              temperature=1.0,\n",
        "              top_k=50,\n",
        "              top_p=0.95)\n",
        "\n",
        "# Print the generated text\n",
        "print(output[0]['generated_text'])\n"
      ],
      "metadata": {
        "id": "VjprXwfiKoZr",
        "outputId": "f6f50af6-99f0-47f6-ec14-f0a1a4953afd",
        "colab": {
          "base_uri": "https://localhost:8080/"
        }
      },
      "execution_count": null,
      "outputs": [
        {
          "output_type": "stream",
          "name": "stderr",
          "text": [
            "Truncation was not explicitly activated but `max_length` is provided a specific value, please use `truncation=True` to explicitly truncate examples to max length. Defaulting to 'longest_first' truncation strategy. If you encode pairs of sequences (GLUE-style) with the tokenizer you can select this strategy more precisely by providing a specific strategy to `truncation`.\n"
          ]
        },
        {
          "output_type": "stream",
          "name": "stdout",
          "text": [
            "def factorial(n):\n",
            "    # Computes the factorial of a number\n",
            "    if n == 0:\n",
            "        return 1\n",
            "    else:\n",
            "        return n * factorial(n-1)\n",
            "\n",
            "print(factorial(5))  # Output: 120\n",
            "```\n",
            "\n",
            "## Exercise\n"
          ]
        }
      ]
    }
  ]
}