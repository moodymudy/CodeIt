{
  "cells": [
    {
      "cell_type": "code",
      "execution_count": null,
      "metadata": {
        "id": "tYYhxecLXmOm"
      },
      "outputs": [],
      "source": [
        "!huggingface-cli login"
      ]
    },
    {
      "cell_type": "code",
      "execution_count": null,
      "metadata": {
        "colab": {
          "base_uri": "https://localhost:8080/"
        },
        "id": "9s3GR0mm_3Gk",
        "outputId": "fa95f430-eca0-4d28-d141-e835c524a69f"
      },
      "outputs": [
        {
          "name": "stdout",
          "output_type": "stream",
          "text": [
            "Write a Python function that computes the factorial of any number:\n",
            "# def factorial(n):\n",
            "#     if n == 0:\n",
            "#         return 1\n",
            "#     else:\n",
            "#         return n * factorial(n-1)\n",
            "#\n",
            "# print(factorial(5))\n",
            "\n",
            "# Write a Python function that computes the factorial of any number\n"
          ]
        }
      ],
      "source": [
        "from transformers import AutoTokenizer, AutoModelForCausalLM\n",
        "\n",
        "# Load the tokenizer and model\n",
        "tokenizer = AutoTokenizer.from_pretrained(\"Salesforce/codegen-350M-mono\")\n",
        "model = AutoModelForCausalLM.from_pretrained(\"Salesforce/codegen-350M-mono\")\n",
        "\n",
        "prompt = \"Write a Python function that computes the factorial of any number:\"\n",
        "\n",
        "# Encode the input prompt\n",
        "input_ids = tokenizer(prompt, return_tensors=\"pt\").input_ids\n",
        "\n",
        "generated_ids = model.generate(\n",
        "    input_ids,\n",
        "    max_length=80,  \n",
        "    eos_token_id=tokenizer.eos_token_id,  \n",
        "    pad_token_id=tokenizer.eos_token_id  \n",
        ")\n",
        "\n",
        "print(tokenizer.decode(generated_ids[0], skip_special_tokens=True))\n"
      ]
    }
  ],
  "metadata": {
    "colab": {
      "provenance": []
    },
    "kernelspec": {
      "display_name": "Python 3",
      "name": "python3"
    },
    "language_info": {
      "name": "python"
    }
  },
  "nbformat": 4,
  "nbformat_minor": 0
}
