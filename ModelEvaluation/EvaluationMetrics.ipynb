{
  "nbformat": 4,
  "nbformat_minor": 0,
  "metadata": {
    "colab": {
      "provenance": []
    },
    "kernelspec": {
      "name": "python3",
      "display_name": "Python 3"
    },
    "language_info": {
      "name": "python"
    }
  },
  "cells": [
    {
      "cell_type": "markdown",
      "source": [
        "## CodeBERT: Evaluates code quality and relevance."
      ],
      "metadata": {
        "id": "C7fkKO-eBVOx"
      }
    },
    {
      "cell_type": "code",
      "source": [
        "from transformers import AutoTokenizer, AutoModelForSequenceClassification\n",
        "import torch\n",
        "\n",
        "# Function to evaluate the code with CodeBERT\n",
        "def evaluate_with_codebert(code: str):\n",
        "    tokenizer = AutoTokenizer.from_pretrained(\"microsoft/codebert-base\")\n",
        "    model = AutoModelForSequenceClassification.from_pretrained(\"microsoft/codebert-base\")\n",
        "\n",
        "    inputs = tokenizer(code, return_tensors=\"pt\", padding=True, truncation=True)\n",
        ")\n",
        "    with torch.no_grad():\n",
        "        outputs = model(**inputs)\n",
        "        logits = outputs.logits\n",
        "\n",
        "    softmax = torch.nn.Softmax(dim=1)\n",
        "    probabilities = softmax(logits)\n",
        "\n",
        "    max_prob = probabilities.max().item()\n",
        "\n",
        "    print(f\"CodeBERT Quality Score: {max_prob}\")\n",
        "\n",
        "generated_code = '''\n",
        "def factorial(num):\n",
        "    if num == 0:\n",
        "        return 1\n",
        "    else:\n",
        "        return num * factorial(num-1)\n",
        "'''\n",
        "\n",
        "evaluate_with_codebert(generated_code)\n"
      ],
      "metadata": {
        "colab": {
          "base_uri": "https://localhost:8080/"
        },
        "id": "4Shoqp8GE82q",
        "outputId": "3df53618-3a5b-4e5a-eb30-5885635a4b61"
      },
      "execution_count": null,
      "outputs": [
        {
          "output_type": "stream",
          "name": "stderr",
          "text": [
            "Some weights of RobertaForSequenceClassification were not initialized from the model checkpoint at microsoft/codebert-base and are newly initialized: ['classifier.dense.bias', 'classifier.dense.weight', 'classifier.out_proj.bias', 'classifier.out_proj.weight']\n",
            "You should probably TRAIN this model on a down-stream task to be able to use it for predictions and inference.\n"
          ]
        },
        {
          "output_type": "stream",
          "name": "stdout",
          "text": [
            "CodeBERT Quality Score: 0.5823578238487244\n"
          ]
        }
      ]
    },
    {
      "cell_type": "markdown",
      "source": [
        "## Pylint: Checks code style and standards."
      ],
      "metadata": {
        "id": "2Ii_aPlOB8b9"
      }
    },
    {
      "cell_type": "code",
      "source": [
        "!pip install pylint"
      ],
      "metadata": {
        "colab": {
          "base_uri": "https://localhost:8080/"
        },
        "id": "4rRE8KfEGggs",
        "outputId": "3f6492bb-87db-43b1-a32e-cb8852501a22"
      },
      "execution_count": null,
      "outputs": [
        {
          "output_type": "stream",
          "name": "stdout",
          "text": [
            "Collecting pylint\n",
            "  Downloading pylint-3.3.1-py3-none-any.whl.metadata (12 kB)\n",
            "Requirement already satisfied: platformdirs>=2.2.0 in /usr/local/lib/python3.10/dist-packages (from pylint) (4.3.6)\n",
            "Collecting astroid<=3.4.0-dev0,>=3.3.4 (from pylint)\n",
            "  Downloading astroid-3.3.5-py3-none-any.whl.metadata (4.5 kB)\n",
            "Collecting isort!=5.13.0,<6,>=4.2.5 (from pylint)\n",
            "  Downloading isort-5.13.2-py3-none-any.whl.metadata (12 kB)\n",
            "Collecting mccabe<0.8,>=0.6 (from pylint)\n",
            "  Downloading mccabe-0.7.0-py2.py3-none-any.whl.metadata (5.0 kB)\n",
            "Collecting tomlkit>=0.10.1 (from pylint)\n",
            "  Downloading tomlkit-0.13.2-py3-none-any.whl.metadata (2.7 kB)\n",
            "Collecting dill>=0.2 (from pylint)\n",
            "  Downloading dill-0.3.9-py3-none-any.whl.metadata (10 kB)\n",
            "Requirement already satisfied: tomli>=1.1.0 in /usr/local/lib/python3.10/dist-packages (from pylint) (2.0.2)\n",
            "Requirement already satisfied: typing-extensions>=4.0.0 in /usr/local/lib/python3.10/dist-packages (from astroid<=3.4.0-dev0,>=3.3.4->pylint) (4.12.2)\n",
            "Downloading pylint-3.3.1-py3-none-any.whl (521 kB)\n",
            "\u001b[2K   \u001b[90m━━━━━━━━━━━━━━━━━━━━━━━━━━━━━━━━━━━━━━━━\u001b[0m \u001b[32m521.8/521.8 kB\u001b[0m \u001b[31m21.7 MB/s\u001b[0m eta \u001b[36m0:00:00\u001b[0m\n",
            "\u001b[?25hDownloading astroid-3.3.5-py3-none-any.whl (274 kB)\n",
            "\u001b[2K   \u001b[90m━━━━━━━━━━━━━━━━━━━━━━━━━━━━━━━━━━━━━━━━\u001b[0m \u001b[32m274.6/274.6 kB\u001b[0m \u001b[31m17.0 MB/s\u001b[0m eta \u001b[36m0:00:00\u001b[0m\n",
            "\u001b[?25hDownloading dill-0.3.9-py3-none-any.whl (119 kB)\n",
            "\u001b[2K   \u001b[90m━━━━━━━━━━━━━━━━━━━━━━━━━━━━━━━━━━━━━━━━\u001b[0m \u001b[32m119.4/119.4 kB\u001b[0m \u001b[31m9.4 MB/s\u001b[0m eta \u001b[36m0:00:00\u001b[0m\n",
            "\u001b[?25hDownloading isort-5.13.2-py3-none-any.whl (92 kB)\n",
            "\u001b[2K   \u001b[90m━━━━━━━━━━━━━━━━━━━━━━━━━━━━━━━━━━━━━━━━\u001b[0m \u001b[32m92.3/92.3 kB\u001b[0m \u001b[31m7.1 MB/s\u001b[0m eta \u001b[36m0:00:00\u001b[0m\n",
            "\u001b[?25hDownloading mccabe-0.7.0-py2.py3-none-any.whl (7.3 kB)\n",
            "Downloading tomlkit-0.13.2-py3-none-any.whl (37 kB)\n",
            "Installing collected packages: tomlkit, mccabe, isort, dill, astroid, pylint\n",
            "Successfully installed astroid-3.3.5 dill-0.3.9 isort-5.13.2 mccabe-0.7.0 pylint-3.3.1 tomlkit-0.13.2\n"
          ]
        }
      ]
    },
    {
      "cell_type": "code",
      "source": [
        "import pylint.lint\n",
        "from io import StringIO\n",
        "import sys\n",
        "\n",
        "# Function to evaluate code using Pylint\n",
        "def evaluate_with_pylint(code: str):\n",
        "\n",
        "    pylint_output = StringIO()\n",
        "    sys.stdout = pylint_output\n",
        "\n",
        "    with open('temp_code.py', 'w') as f:\n",
        "        f.write(code)\n",
        "\n",
        "\n",
        "    pylint_opts = ['--disable=C0114', '--disable=C0115', '--disable=C0116']\n",
        "    pylint.lint.Run(['temp_code.py'] + pylint_opts, exit=False)\n",
        "\n",
        "\n",
        "    sys.stdout = sys.__stdout__\n",
        "\n",
        "    pylint_output.seek(0)\n",
        "    output = pylint_output.getvalue()\n",
        "    for line in output.splitlines():\n",
        "        if line.startswith(\"Your code has been rated at\"):\n",
        "            score_line = line.strip()\n",
        "            print(score_line)\n",
        "            return score_line\n",
        "\n",
        "\n",
        "generated_code = '''\n",
        "def factorial(num):\n",
        "    if num == 0:\n",
        "        return 1\n",
        "    else:\n",
        "        return num * factorial(num-1)\n",
        "'''\n",
        "\n",
        "evaluate_with_pylint(generated_code)\n"
      ],
      "metadata": {
        "colab": {
          "base_uri": "https://localhost:8080/",
          "height": 34
        },
        "id": "7wCysKcwGX0A",
        "outputId": "080c7b8b-b011-4c52-acbc-1357b5608783"
      },
      "execution_count": null,
      "outputs": [
        {
          "output_type": "execute_result",
          "data": {
            "text/plain": [
              "'Your code has been rated at 7.50/10 (previous run: 7.50/10, +0.00)'"
            ],
            "application/vnd.google.colaboratory.intrinsic+json": {
              "type": "string"
            }
          },
          "metadata": {},
          "execution_count": 11
        }
      ]
    },
    {
      "cell_type": "markdown",
      "source": [
        "## Flake8: Enforces style, linting, and complexity."
      ],
      "metadata": {
        "id": "mLo1s9lTB_Hj"
      }
    },
    {
      "cell_type": "code",
      "source": [
        "pip install flake8"
      ],
      "metadata": {
        "id": "AKwczxwEH4bP"
      },
      "execution_count": null,
      "outputs": []
    },
    {
      "cell_type": "code",
      "source": [
        "import subprocess\n",
        "\n",
        "def evaluate_with_flake8(code: str):\n",
        "\n",
        "    with open(\"temp_code.py\", \"w\") as f:\n",
        "        f.write(code)\n",
        "\n",
        "    result = subprocess.run(['flake8', 'temp_code.py'], stdout=subprocess.PIPE, stderr=subprocess.PIPE)\n",
        "\n",
        "    output = result.stdout.decode('utf-8')\n",
        "\n",
        "    if output:\n",
        "        print(\"Flake8 Issues Found:\\n\", output)\n",
        "        num_issues = len(output.splitlines())\n",
        "    else:\n",
        "        print(\"No style issues found with Flake8!\")\n",
        "        num_issues = 0\n",
        "\n",
        "    total_lines = len(code.splitlines())\n",
        "    if total_lines == 0:\n",
        "        score = 100\n",
        "    else:\n",
        "        score = max(0, (1 - (num_issues / total_lines)) * 100)\n",
        "\n",
        "    print(f\"Flake8 Score: {score:.2f}%\")\n",
        "    return score\n",
        "\n",
        "generated_code = '''\n",
        "def factorial(num):\n",
        "    if num == 0:\n",
        "        return 1\n",
        "    else:\n",
        "        return num * factorial(num-1)\n",
        "'''\n",
        "\n",
        "evaluate_with_flake8(generated_code)\n",
        "\n"
      ],
      "metadata": {
        "colab": {
          "base_uri": "https://localhost:8080/"
        },
        "id": "YfdQ1fCWImLq",
        "outputId": "a1701023-9263-4c25-b108-1d5801791cbf"
      },
      "execution_count": null,
      "outputs": [
        {
          "output_type": "execute_result",
          "data": {
            "text/plain": [
              "100.0"
            ]
          },
          "metadata": {},
          "execution_count": 15
        }
      ]
    },
    {
      "cell_type": "markdown",
      "source": [
        "## Success Rate: Measures test case accuracy."
      ],
      "metadata": {
        "id": "5PkUwHz9CBhP"
      }
    },
    {
      "cell_type": "code",
      "source": [
        "\n",
        "def factorial(num):\n",
        "    if num == 0:\n",
        "        return 1\n",
        "    else:\n",
        "        return num * factorial(num-1)\n",
        "\n",
        "# Test cases for factorial\n",
        "test_cases = [\n",
        "    (0, 1),\n",
        "    (3, 6),\n",
        "    (6, 720),\n",
        "    (9, 362880),\n",
        "    (12, 479001600),\n",
        "    (15, 1307674368000),\n",
        "    (18, 6402373705728000),\n",
        "    (21, 51090942171709440000),\n",
        "    (25, 15511210043330985984000000),\n",
        "    (30, 265252859812191058636308480000000)\n",
        "]\n",
        "\n",
        "\n",
        "successful_cases = 0  # Track successful cases for debugging\n",
        "\n",
        "for n, expected in test_cases:\n",
        "    result = factorial(n)\n",
        "    if result == expected:\n",
        "        successful_cases += 1\n",
        "    else:\n",
        "\n",
        "        print(f\"Test case failed for input {n}: Expected {expected}, got {result}\")\n",
        "\n",
        "# Calculate and print success rate\n",
        "success_rate = (successful_cases / len(test_cases)) * 100\n",
        "print(f\"Success Rate: {success_rate}%\")"
      ],
      "metadata": {
        "id": "8QtzXJL4U_Ah",
        "colab": {
          "base_uri": "https://localhost:8080/"
        },
        "outputId": "caa3d0d4-ba24-495d-9bd1-0d80a4895bb6"
      },
      "execution_count": 1,
      "outputs": [
        {
          "output_type": "stream",
          "name": "stdout",
          "text": [
            "Success Rate: 100.0%\n"
          ]
        }
      ]
    }
  ]
}